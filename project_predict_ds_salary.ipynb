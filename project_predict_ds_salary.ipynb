{
 "cells": [
  {
   "cell_type": "markdown",
   "id": "df32c245",
   "metadata": {},
   "source": [
    "# Project - Data Science"
   ]
  },
  {
   "cell_type": "markdown",
   "id": "40aeb1cb",
   "metadata": {},
   "source": [
    "## Fullname (nickname): Suwicha Saeling (Bird)"
   ]
  },
  {
   "cell_type": "markdown",
   "id": "81ab86c0",
   "metadata": {},
   "source": [
    "## Project Topic: Predict Data job salaries in US"
   ]
  },
  {
   "cell_type": "markdown",
   "id": "5eff30cf",
   "metadata": {},
   "source": [
    "## Current Situation / Problem Statement\n",
    "\n",
    "In future I will be data specialist in US but don’t know the right salary!.\n",
    "![](payday.jpg)"
   ]
  },
  {
   "cell_type": "markdown",
   "id": "7b0d5800",
   "metadata": {},
   "source": [
    "## Objectives:\n",
    "1. Find average salaries of data career.\n",
    "2. Predict data job salaries."
   ]
  },
  {
   "cell_type": "markdown",
   "id": "f81b394a",
   "metadata": {},
   "source": [
    "## Hypothesis-driven Questions:\n",
    "\n",
    "Find features that affect salaries.\n",
    "- Does company size matter pay salary differently?.\n",
    "- Does different job has salary differently?.\n"
   ]
  },
  {
   "cell_type": "markdown",
   "id": "69eacba1",
   "metadata": {},
   "source": [
    "## Dataset:\n",
    "[Data Science job salaries(Kaggle)](https://www.kaggle.com/datasets/ruchi798/data-science-job-salaries)\n",
    "\n",
    "**Description**\n",
    "\n",
    "|Column |meaning |\n",
    "| --- | --- |\n",
    "|**work_year** |\tThe year the salary was paid.|\n",
    "|**experience_level**|\tThe experience level in the job during the year with the following possible values: EN Entry-level / Junior MI Mid-level / Intermediate SE Senior-level / Expert EX Executive-level / Director|\n",
    "|**employment_type**|\tThe type of employement for the role: PT Part-time FT Full-time CT Contract FL Freelance|\n",
    "|**job_title**|\tThe role worked in during the year.|\n",
    "|**salary**\t|The total gross salary amount paid.|\n",
    "|**salary_currency**|\tThe currency of the salary paid as an ISO 4217 currency code.|\n",
    "|**salaryinusd**|\tThe salary in USD (FX rate divided by avg. USD rate for the respective year via fxdata.foorilla.com).|\n",
    "|**employee_residence**|\tEmployee's primary country of residence in during the work year as an ISO 3166 country code.|\n",
    "|**remote_ratio**|\tThe overall amount of work done remotely, possible values are as follows: 0 No remote work (less than 20%) 50 Partially remote 100 Fully remote (more than 80%)|\n",
    "|**company_location**|\tThe country of the employer's main office or contracting branch as an ISO 3166 country code.|\n",
    "|**company_size**|\tThe average number of people that worked for the company during the year: S less than 50 employees (small) M 50 to 250 employees (medium) L more than 250 employees (large)|"
   ]
  },
  {
   "cell_type": "markdown",
   "id": "7d971644",
   "metadata": {},
   "source": [
    "<hr>"
   ]
  },
  {
   "cell_type": "markdown",
   "id": "7640db1a",
   "metadata": {},
   "source": [
    "### Import package and dataset"
   ]
  },
  {
   "cell_type": "code",
   "execution_count": 1,
   "id": "437ab352",
   "metadata": {},
   "outputs": [],
   "source": [
    "#Import package \n",
    "# work with dataset\n",
    "import pandas as pd\n",
    "import numpy as np\n",
    "import matplotlib.pyplot as plt\n",
    "import seaborn as sns\n",
    "\n",
    "# create model and score\n",
    "from sklearn.linear_model import LinearRegression\n",
    "from sklearn.model_selection import train_test_split\n",
    "from sklearn.metrics import mean_squared_error\n",
    "\n",
    "# for filter future warning\n",
    "import warnings\n",
    "warnings.filterwarnings('ignore')\n"
   ]
  },
  {
   "cell_type": "code",
   "execution_count": 2,
   "id": "d7324b3b",
   "metadata": {},
   "outputs": [
    {
     "name": "stdout",
     "output_type": "stream",
     "text": [
      "Rows and Columns (607, 12)\n"
     ]
    },
    {
     "data": {
      "text/html": [
       "<div>\n",
       "<style scoped>\n",
       "    .dataframe tbody tr th:only-of-type {\n",
       "        vertical-align: middle;\n",
       "    }\n",
       "\n",
       "    .dataframe tbody tr th {\n",
       "        vertical-align: top;\n",
       "    }\n",
       "\n",
       "    .dataframe thead th {\n",
       "        text-align: right;\n",
       "    }\n",
       "</style>\n",
       "<table border=\"1\" class=\"dataframe\">\n",
       "  <thead>\n",
       "    <tr style=\"text-align: right;\">\n",
       "      <th></th>\n",
       "      <th>Unnamed: 0</th>\n",
       "      <th>work_year</th>\n",
       "      <th>experience_level</th>\n",
       "      <th>employment_type</th>\n",
       "      <th>job_title</th>\n",
       "      <th>salary</th>\n",
       "      <th>salary_currency</th>\n",
       "      <th>salary_in_usd</th>\n",
       "      <th>employee_residence</th>\n",
       "      <th>remote_ratio</th>\n",
       "      <th>company_location</th>\n",
       "      <th>company_size</th>\n",
       "    </tr>\n",
       "  </thead>\n",
       "  <tbody>\n",
       "    <tr>\n",
       "      <th>0</th>\n",
       "      <td>0</td>\n",
       "      <td>2020</td>\n",
       "      <td>MI</td>\n",
       "      <td>FT</td>\n",
       "      <td>Data Scientist</td>\n",
       "      <td>70000</td>\n",
       "      <td>EUR</td>\n",
       "      <td>79833</td>\n",
       "      <td>DE</td>\n",
       "      <td>0</td>\n",
       "      <td>DE</td>\n",
       "      <td>L</td>\n",
       "    </tr>\n",
       "    <tr>\n",
       "      <th>1</th>\n",
       "      <td>1</td>\n",
       "      <td>2020</td>\n",
       "      <td>SE</td>\n",
       "      <td>FT</td>\n",
       "      <td>Machine Learning Scientist</td>\n",
       "      <td>260000</td>\n",
       "      <td>USD</td>\n",
       "      <td>260000</td>\n",
       "      <td>JP</td>\n",
       "      <td>0</td>\n",
       "      <td>JP</td>\n",
       "      <td>S</td>\n",
       "    </tr>\n",
       "    <tr>\n",
       "      <th>2</th>\n",
       "      <td>2</td>\n",
       "      <td>2020</td>\n",
       "      <td>SE</td>\n",
       "      <td>FT</td>\n",
       "      <td>Big Data Engineer</td>\n",
       "      <td>85000</td>\n",
       "      <td>GBP</td>\n",
       "      <td>109024</td>\n",
       "      <td>GB</td>\n",
       "      <td>50</td>\n",
       "      <td>GB</td>\n",
       "      <td>M</td>\n",
       "    </tr>\n",
       "    <tr>\n",
       "      <th>3</th>\n",
       "      <td>3</td>\n",
       "      <td>2020</td>\n",
       "      <td>MI</td>\n",
       "      <td>FT</td>\n",
       "      <td>Product Data Analyst</td>\n",
       "      <td>20000</td>\n",
       "      <td>USD</td>\n",
       "      <td>20000</td>\n",
       "      <td>HN</td>\n",
       "      <td>0</td>\n",
       "      <td>HN</td>\n",
       "      <td>S</td>\n",
       "    </tr>\n",
       "    <tr>\n",
       "      <th>4</th>\n",
       "      <td>4</td>\n",
       "      <td>2020</td>\n",
       "      <td>SE</td>\n",
       "      <td>FT</td>\n",
       "      <td>Machine Learning Engineer</td>\n",
       "      <td>150000</td>\n",
       "      <td>USD</td>\n",
       "      <td>150000</td>\n",
       "      <td>US</td>\n",
       "      <td>50</td>\n",
       "      <td>US</td>\n",
       "      <td>L</td>\n",
       "    </tr>\n",
       "  </tbody>\n",
       "</table>\n",
       "</div>"
      ],
      "text/plain": [
       "   Unnamed: 0  work_year experience_level employment_type  \\\n",
       "0           0       2020               MI              FT   \n",
       "1           1       2020               SE              FT   \n",
       "2           2       2020               SE              FT   \n",
       "3           3       2020               MI              FT   \n",
       "4           4       2020               SE              FT   \n",
       "\n",
       "                    job_title  salary salary_currency  salary_in_usd  \\\n",
       "0              Data Scientist   70000             EUR          79833   \n",
       "1  Machine Learning Scientist  260000             USD         260000   \n",
       "2           Big Data Engineer   85000             GBP         109024   \n",
       "3        Product Data Analyst   20000             USD          20000   \n",
       "4   Machine Learning Engineer  150000             USD         150000   \n",
       "\n",
       "  employee_residence  remote_ratio company_location company_size  \n",
       "0                 DE             0               DE            L  \n",
       "1                 JP             0               JP            S  \n",
       "2                 GB            50               GB            M  \n",
       "3                 HN             0               HN            S  \n",
       "4                 US            50               US            L  "
      ]
     },
     "execution_count": 2,
     "metadata": {},
     "output_type": "execute_result"
    }
   ],
   "source": [
    "# Import dataset\n",
    "ds_salaries = pd.read_csv('ds_salaries.csv')\n",
    "print('Rows and Columns', ds_salaries.shape) # check rows and columns\n",
    "ds_salaries.head(5)"
   ]
  },
  {
   "cell_type": "markdown",
   "id": "41f21438",
   "metadata": {},
   "source": [
    "<hr>"
   ]
  },
  {
   "cell_type": "markdown",
   "id": "488ead7c",
   "metadata": {},
   "source": [
    "## EDA and Data Preparation (Data Cleaning) :"
   ]
  },
  {
   "cell_type": "markdown",
   "id": "eef6faba",
   "metadata": {},
   "source": [
    "1. Select interested columns and filter job_title only DA, DS, DE and employment_type only fulltime and company location only in US \n",
    "2. check missing value and outlier using boxplot to detect.\n",
    "2. Explore salary distribution and salary group by job and company size."
   ]
  },
  {
   "cell_type": "markdown",
   "id": "d3023273",
   "metadata": {},
   "source": [
    "### Section 1: Select columns and filter"
   ]
  },
  {
   "cell_type": "code",
   "execution_count": 3,
   "id": "1ca8dff9",
   "metadata": {},
   "outputs": [
    {
     "name": "stdout",
     "output_type": "stream",
     "text": [
      "<class 'pandas.core.frame.DataFrame'>\n",
      "Int64Index: 238 entries, 5 to 605\n",
      "Data columns (total 7 columns):\n",
      " #   Column            Non-Null Count  Dtype \n",
      "---  ------            --------------  ----- \n",
      " 0   experience_level  238 non-null    object\n",
      " 1   employment_type   238 non-null    object\n",
      " 2   job_title         238 non-null    object\n",
      " 3   salary_in_usd     238 non-null    int64 \n",
      " 4   remote_ratio      238 non-null    int64 \n",
      " 5   company_location  238 non-null    object\n",
      " 6   company_size      238 non-null    object\n",
      "dtypes: int64(2), object(5)\n",
      "memory usage: 14.9+ KB\n"
     ]
    }
   ],
   "source": [
    "# Drop features which are not important\n",
    "ds_salaries = ds_salaries.drop([\"Unnamed: 0\", \"salary_currency\", \"salary\", \"work_year\",\\\n",
    "                  \"employee_residence\"], axis=1)\n",
    "\n",
    "# Keep jobs only Data analyst, scienctist, engineer\n",
    "ds_salaries = ds_salaries[ds_salaries['job_title'].\\\n",
    "                          isin(['Data Scientist', 'Data Analyst', 'Data Engineer'])]\n",
    "\n",
    "# Keep only employment_type Fulltime and company only in us\n",
    "ds_salaries = ds_salaries[ds_salaries['employment_type'] == 'FT']\n",
    "ds_salaries = ds_salaries[ds_salaries['company_location'] == 'US']\n",
    "\n",
    "# check types in dataset\n",
    "ds_salaries.info()"
   ]
  },
  {
   "cell_type": "markdown",
   "id": "f2ba6045",
   "metadata": {},
   "source": [
    "Select columns and filter job title only Data analyst, Data scienctist, Data engineer and employment type only fulltime and company location only in US "
   ]
  },
  {
   "cell_type": "markdown",
   "id": "ae71030f",
   "metadata": {},
   "source": [
    "### Section 2: Check missing values and outliers"
   ]
  },
  {
   "cell_type": "code",
   "execution_count": 28,
   "id": "a9ea72de",
   "metadata": {},
   "outputs": [
    {
     "data": {
      "text/plain": [
       "experience_level    0\n",
       "employment_type     0\n",
       "job_title           0\n",
       "salary_in_usd       0\n",
       "remote_ratio        0\n",
       "company_location    0\n",
       "company_size        0\n",
       "dtype: int64"
      ]
     },
     "execution_count": 28,
     "metadata": {},
     "output_type": "execute_result"
    }
   ],
   "source": [
    "# check missing value ## dataset does not has missing value\n",
    "ds_salaries.isnull().sum()"
   ]
  },
  {
   "cell_type": "code",
   "execution_count": 5,
   "id": "ea0263a6",
   "metadata": {},
   "outputs": [],
   "source": [
    "## create function to call boxplot to explore salary and job\n",
    "def boxplot_detect_outlier(x_axis, y_axis, title):\n",
    "    \"\"\"\n",
    "    Print job and salary boxplot.\n",
    "    -------------\n",
    "    parameters\n",
    "    x_axis : string\n",
    "        x_axis and label in x axis\n",
    "    y_axis : string\n",
    "        y_axis and label in y axis\n",
    "    title : string\n",
    "        title chart\n",
    "    \"\"\"\n",
    "    plt.figure(figsize=(10,6))\n",
    "    sns.boxplot(x= x_axis, y=y_axis, data=ds_salaries)\n",
    "    plt.xlabel(x_axis, size = 15)\n",
    "    plt.ylabel(y_axis, size=15)\n",
    "    plt.title(title, size=18)\n",
    "    plt.tight_layout()"
   ]
  },
  {
   "cell_type": "code",
   "execution_count": 6,
   "id": "c7a5d358",
   "metadata": {},
   "outputs": [
    {
     "data": {
      "image/png": "[encoded data removed]",
      "text/plain": [
       "<Figure size 720x432 with 1 Axes>"
      ]
     },
     "metadata": {
      "needs_background": "light"
     },
     "output_type": "display_data"
    }
   ],
   "source": [
    "# check outlier in job_title and salary \n",
    "boxplot_detect_outlier('salary_in_usd', 'job_title', 'Boxplot salary and job')"
   ]
  },
  {
   "cell_type": "code",
   "execution_count": 7,
   "id": "3d6ddba3",
   "metadata": {},
   "outputs": [
    {
     "data": {
      "image/png": "[encoded data removed]",
      "text/plain": [
       "<Figure size 720x432 with 1 Axes>"
      ]
     },
     "metadata": {
      "needs_background": "light"
     },
     "output_type": "display_data"
    }
   ],
   "source": [
    "# Clean outlier with above or below 1.5IQR will be filter out \n",
    "q1 = ds_salaries['salary_in_usd'].quantile(0.25)\n",
    "q3 = ds_salaries['salary_in_usd'].quantile(0.75)\n",
    "iqr = q3 - q1\n",
    "lower_salary = q1 - 1.5*iqr\n",
    "higher_salary = q3 + 1.5*iqr\n",
    "ds_salaries = ds_salaries[(ds_salaries['salary_in_usd'] > lower_salary) & \\\n",
    "            (ds_salaries['salary_in_usd'] < higher_salary)]\n",
    "\n",
    "# Plot boxplot\n",
    "boxplot_detect_outlier('salary_in_usd', 'job_title', 'Boxplot salary and job')"
   ]
  },
  {
   "cell_type": "code",
   "execution_count": 8,
   "id": "6d2e7d7c",
   "metadata": {},
   "outputs": [
    {
     "data": {
      "text/html": [
       "<div>\n",
       "<style scoped>\n",
       "    .dataframe tbody tr th:only-of-type {\n",
       "        vertical-align: middle;\n",
       "    }\n",
       "\n",
       "    .dataframe tbody tr th {\n",
       "        vertical-align: top;\n",
       "    }\n",
       "\n",
       "    .dataframe thead th {\n",
       "        text-align: right;\n",
       "    }\n",
       "</style>\n",
       "<table border=\"1\" class=\"dataframe\">\n",
       "  <thead>\n",
       "    <tr style=\"text-align: right;\">\n",
       "      <th></th>\n",
       "      <th>experience_level</th>\n",
       "      <th>employment_type</th>\n",
       "      <th>job_title</th>\n",
       "      <th>salary_in_usd</th>\n",
       "      <th>remote_ratio</th>\n",
       "      <th>company_location</th>\n",
       "      <th>company_size</th>\n",
       "    </tr>\n",
       "  </thead>\n",
       "  <tbody>\n",
       "    <tr>\n",
       "      <th>233</th>\n",
       "      <td>SE</td>\n",
       "      <td>FT</td>\n",
       "      <td>Data Analyst</td>\n",
       "      <td>200000</td>\n",
       "      <td>100</td>\n",
       "      <td>US</td>\n",
       "      <td>L</td>\n",
       "    </tr>\n",
       "  </tbody>\n",
       "</table>\n",
       "</div>"
      ],
      "text/plain": [
       "    experience_level employment_type     job_title  salary_in_usd  \\\n",
       "233               SE              FT  Data Analyst         200000   \n",
       "\n",
       "     remote_ratio company_location company_size  \n",
       "233           100               US            L  "
      ]
     },
     "execution_count": 8,
     "metadata": {},
     "output_type": "execute_result"
    }
   ],
   "source": [
    "# Find outlier in data analyst\n",
    "## last outlier is in index 233\n",
    "ds_salaries[(ds_salaries['job_title'] == 'Data Analyst') & \\\n",
    "            (ds_salaries['salary_in_usd'] > 190000)]"
   ]
  },
  {
   "cell_type": "code",
   "execution_count": 9,
   "id": "869adf6e",
   "metadata": {},
   "outputs": [],
   "source": [
    "# drop index 233 because it is outlier \n",
    "ds_salaries = ds_salaries.drop(233)"
   ]
  },
  {
   "cell_type": "code",
   "execution_count": 10,
   "id": "9401ea13",
   "metadata": {},
   "outputs": [
    {
     "data": {
      "image/png": "[encoded data removed]",
      "text/plain": [
       "<Figure size 720x432 with 1 Axes>"
      ]
     },
     "metadata": {
      "needs_background": "light"
     },
     "output_type": "display_data"
    }
   ],
   "source": [
    "# boxplot after cleaned outlier\n",
    "boxplot_detect_outlier('salary_in_usd', 'job_title', 'Boxplot salary and job')"
   ]
  },
  {
   "cell_type": "markdown",
   "id": "f436707c",
   "metadata": {},
   "source": [
    "#### Missing values\n",
    "In section 2 dataset has no missing value\n",
    "\n",
    "#### Outliers\n",
    "Dataset has 4 outliers, I use 1.5IQR to filter out but it still has 1 outlier so I filter out by finding index.\n"
   ]
  },
  {
   "cell_type": "markdown",
   "id": "44d0e6ce",
   "metadata": {},
   "source": [
    "### Section 3: Explore Salaries"
   ]
  },
  {
   "cell_type": "code",
   "execution_count": 11,
   "id": "5bf3d1e7",
   "metadata": {},
   "outputs": [],
   "source": [
    " # Create Function label() to set label in chart\n",
    "def label(xlab, ylab, title):\n",
    "    \"\"\"\n",
    "    Create x and y axis and title labels\n",
    "    \n",
    "    parameters\n",
    "    -----------\n",
    "    xlab : string\n",
    "        label x axis\n",
    "    ylab : string\n",
    "        label y axis\n",
    "    title : string\n",
    "        title chart\n",
    "    \"\"\"\n",
    "    plt.xlabel(xlab, size=15)\n",
    "    plt.ylabel(ylab, size=15)\n",
    "    plt.title(title, size=18)\n",
    "    plt.tight_layout()"
   ]
  },
  {
   "cell_type": "code",
   "execution_count": 12,
   "id": "fa150c98",
   "metadata": {},
   "outputs": [
    {
     "data": {
      "image/png": "[encoded data removed]",
      "text/plain": [
       "<Figure size 360x360 with 1 Axes>"
      ]
     },
     "metadata": {
      "needs_background": "light"
     },
     "output_type": "display_data"
    }
   ],
   "source": [
    "# Explore salary distribution \n",
    "## It quite normal distribution\n",
    "sns.displot(ds_salaries['salary_in_usd'],kde=True,color='b')\n",
    "label(\"Salary in US Dollars\", \"Count\", \"Salary Distribution\")\n",
    "plt.show()"
   ]
  },
  {
   "cell_type": "markdown",
   "id": "4358f481",
   "metadata": {},
   "source": [
    "Salary distribution chart is quite normal distribution."
   ]
  },
  {
   "cell_type": "code",
   "execution_count": 13,
   "id": "d27f6a78",
   "metadata": {},
   "outputs": [
    {
     "data": {
      "image/png": "[encoded data removed]",
      "text/plain": [
       "<Figure size 720x432 with 1 Axes>"
      ]
     },
     "metadata": {
      "needs_background": "light"
     },
     "output_type": "display_data"
    }
   ],
   "source": [
    "# Explore job with average salary\n",
    "## create variable order for sort barplot\n",
    "order = ds_salaries.groupby(['job_title'])['salary_in_usd'].mean().sort_values(ascending=False).index\n",
    "plt.figure(figsize=(10, 6))\n",
    "sns.barplot(x='job_title', y='salary_in_usd',data=ds_salaries, order=order)\n",
    "label(\"Job\", \"Salary in US Dollars\", \"Average Salary in Job\")"
   ]
  },
  {
   "cell_type": "code",
   "execution_count": 14,
   "id": "6d1cdb26",
   "metadata": {},
   "outputs": [
    {
     "data": {
      "image/png": "[encoded data removed]",
      "text/plain": [
       "<Figure size 720x432 with 1 Axes>"
      ]
     },
     "metadata": {
      "needs_background": "light"
     },
     "output_type": "display_data"
    }
   ],
   "source": [
    "# Explore Salary job by experience level\n",
    "plt.figure(figsize=(10, 6))\n",
    "sns.barplot(x='salary_in_usd', y='job_title', hue='experience_level',data=ds_salaries)\n",
    "label(\"Salary in US Dollars\", \"Job\", \"Average Salary in Job by Experience Level\")"
   ]
  },
  {
   "cell_type": "markdown",
   "id": "ab1875c9",
   "metadata": {},
   "source": [
    "In average salary in job chart(chart1) Data scientist and engineer salaries are nearly same, if we look deep into experience level that show below chart1 Just only Data scientist Senior level are paid more than data engineer.    "
   ]
  },
  {
   "cell_type": "code",
   "execution_count": 15,
   "id": "0d6ff5fc",
   "metadata": {},
   "outputs": [
    {
     "data": {
      "image/png": "[encoded data removed]",
      "text/plain": [
       "<Figure size 720x432 with 1 Axes>"
      ]
     },
     "metadata": {
      "needs_background": "light"
     },
     "output_type": "display_data"
    }
   ],
   "source": [
    "# Explore average salary in company size\n",
    "plt.figure(figsize=(10,6))\n",
    "order = ds_salaries.groupby(['company_size'])['salary_in_usd'].mean().sort_values(ascending=False).index\n",
    "sns.barplot(x='company_size', y='salary_in_usd', data=ds_salaries, order=order)\n",
    "label('Company Size', 'Salary in US Dollars', 'Average Salary in Company Size')"
   ]
  },
  {
   "cell_type": "code",
   "execution_count": 16,
   "id": "424d1df4",
   "metadata": {},
   "outputs": [
    {
     "data": {
      "image/png": "[encoded data removed]",
      "text/plain": [
       "<Figure size 720x432 with 1 Axes>"
      ]
     },
     "metadata": {
      "needs_background": "light"
     },
     "output_type": "display_data"
    }
   ],
   "source": [
    "# Explore average salary and job in company size\n",
    "plt.figure(figsize=(10,6))\n",
    "order = ds_salaries.groupby(['company_size'])['salary_in_usd'].mean().sort_values(ascending=False).index\n",
    "sns.barplot(x='company_size', y='salary_in_usd', hue='job_title', data=ds_salaries, order=order)\n",
    "label('Company Size', 'Salary in US Dollars', 'Average Salary and Job in Company Size')"
   ]
  },
  {
   "cell_type": "markdown",
   "id": "2efab24c",
   "metadata": {},
   "source": [
    "In average salary in company size showing company medium size are slightly paid more than large size, then group by job title just data analyst are significant in company medium paid more than large size."
   ]
  },
  {
   "cell_type": "markdown",
   "id": "24cc1944",
   "metadata": {},
   "source": [
    "<hr>"
   ]
  },
  {
   "cell_type": "markdown",
   "id": "6c46cd5c",
   "metadata": {},
   "source": [
    "## Predict Data Job salary\n",
    "1. use one hot encode method for prepare dataset\n",
    "2. Create linear regression model using train test split method\n",
    "3. Score model\n",
    "4. Deploy model"
   ]
  },
  {
   "cell_type": "markdown",
   "id": "36c30322",
   "metadata": {},
   "source": [
    "### Section 1: One hot encoding"
   ]
  },
  {
   "cell_type": "code",
   "execution_count": 17,
   "id": "174e825b",
   "metadata": {},
   "outputs": [
    {
     "data": {
      "text/html": [
       "<div>\n",
       "<style scoped>\n",
       "    .dataframe tbody tr th:only-of-type {\n",
       "        vertical-align: middle;\n",
       "    }\n",
       "\n",
       "    .dataframe tbody tr th {\n",
       "        vertical-align: top;\n",
       "    }\n",
       "\n",
       "    .dataframe thead th {\n",
       "        text-align: right;\n",
       "    }\n",
       "</style>\n",
       "<table border=\"1\" class=\"dataframe\">\n",
       "  <thead>\n",
       "    <tr style=\"text-align: right;\">\n",
       "      <th></th>\n",
       "      <th>experience_level</th>\n",
       "      <th>employment_type</th>\n",
       "      <th>job_title</th>\n",
       "      <th>salary_in_usd</th>\n",
       "      <th>remote_ratio</th>\n",
       "      <th>company_location</th>\n",
       "      <th>company_size</th>\n",
       "      <th>job_title_Data Analyst</th>\n",
       "      <th>job_title_Data Engineer</th>\n",
       "      <th>job_title_Data Scientist</th>\n",
       "      <th>experience_level_EN</th>\n",
       "      <th>experience_level_EX</th>\n",
       "      <th>experience_level_MI</th>\n",
       "      <th>experience_level_SE</th>\n",
       "      <th>company_size_L</th>\n",
       "      <th>company_size_M</th>\n",
       "      <th>company_size_S</th>\n",
       "    </tr>\n",
       "  </thead>\n",
       "  <tbody>\n",
       "    <tr>\n",
       "      <th>5</th>\n",
       "      <td>EN</td>\n",
       "      <td>FT</td>\n",
       "      <td>Data Analyst</td>\n",
       "      <td>72000</td>\n",
       "      <td>100</td>\n",
       "      <td>US</td>\n",
       "      <td>L</td>\n",
       "      <td>1</td>\n",
       "      <td>0</td>\n",
       "      <td>0</td>\n",
       "      <td>1</td>\n",
       "      <td>0</td>\n",
       "      <td>0</td>\n",
       "      <td>0</td>\n",
       "      <td>1</td>\n",
       "      <td>0</td>\n",
       "      <td>0</td>\n",
       "    </tr>\n",
       "    <tr>\n",
       "      <th>14</th>\n",
       "      <td>MI</td>\n",
       "      <td>FT</td>\n",
       "      <td>Data Analyst</td>\n",
       "      <td>85000</td>\n",
       "      <td>100</td>\n",
       "      <td>US</td>\n",
       "      <td>L</td>\n",
       "      <td>1</td>\n",
       "      <td>0</td>\n",
       "      <td>0</td>\n",
       "      <td>0</td>\n",
       "      <td>0</td>\n",
       "      <td>1</td>\n",
       "      <td>0</td>\n",
       "      <td>1</td>\n",
       "      <td>0</td>\n",
       "      <td>0</td>\n",
       "    </tr>\n",
       "    <tr>\n",
       "      <th>32</th>\n",
       "      <td>SE</td>\n",
       "      <td>FT</td>\n",
       "      <td>Data Scientist</td>\n",
       "      <td>68428</td>\n",
       "      <td>100</td>\n",
       "      <td>US</td>\n",
       "      <td>L</td>\n",
       "      <td>0</td>\n",
       "      <td>0</td>\n",
       "      <td>1</td>\n",
       "      <td>0</td>\n",
       "      <td>0</td>\n",
       "      <td>0</td>\n",
       "      <td>1</td>\n",
       "      <td>1</td>\n",
       "      <td>0</td>\n",
       "      <td>0</td>\n",
       "    </tr>\n",
       "    <tr>\n",
       "      <th>40</th>\n",
       "      <td>MI</td>\n",
       "      <td>FT</td>\n",
       "      <td>Data Scientist</td>\n",
       "      <td>45760</td>\n",
       "      <td>100</td>\n",
       "      <td>US</td>\n",
       "      <td>S</td>\n",
       "      <td>0</td>\n",
       "      <td>0</td>\n",
       "      <td>1</td>\n",
       "      <td>0</td>\n",
       "      <td>0</td>\n",
       "      <td>1</td>\n",
       "      <td>0</td>\n",
       "      <td>0</td>\n",
       "      <td>0</td>\n",
       "      <td>1</td>\n",
       "    </tr>\n",
       "    <tr>\n",
       "      <th>43</th>\n",
       "      <td>MI</td>\n",
       "      <td>FT</td>\n",
       "      <td>Data Engineer</td>\n",
       "      <td>106000</td>\n",
       "      <td>100</td>\n",
       "      <td>US</td>\n",
       "      <td>L</td>\n",
       "      <td>0</td>\n",
       "      <td>1</td>\n",
       "      <td>0</td>\n",
       "      <td>0</td>\n",
       "      <td>0</td>\n",
       "      <td>1</td>\n",
       "      <td>0</td>\n",
       "      <td>1</td>\n",
       "      <td>0</td>\n",
       "      <td>0</td>\n",
       "    </tr>\n",
       "  </tbody>\n",
       "</table>\n",
       "</div>"
      ],
      "text/plain": [
       "   experience_level employment_type       job_title  salary_in_usd  \\\n",
       "5                EN              FT    Data Analyst          72000   \n",
       "14               MI              FT    Data Analyst          85000   \n",
       "32               SE              FT  Data Scientist          68428   \n",
       "40               MI              FT  Data Scientist          45760   \n",
       "43               MI              FT   Data Engineer         106000   \n",
       "\n",
       "    remote_ratio company_location company_size  job_title_Data Analyst  \\\n",
       "5            100               US            L                       1   \n",
       "14           100               US            L                       1   \n",
       "32           100               US            L                       0   \n",
       "40           100               US            S                       0   \n",
       "43           100               US            L                       0   \n",
       "\n",
       "    job_title_Data Engineer  job_title_Data Scientist  experience_level_EN  \\\n",
       "5                         0                         0                    1   \n",
       "14                        0                         0                    0   \n",
       "32                        0                         1                    0   \n",
       "40                        0                         1                    0   \n",
       "43                        1                         0                    0   \n",
       "\n",
       "    experience_level_EX  experience_level_MI  experience_level_SE  \\\n",
       "5                     0                    0                    0   \n",
       "14                    0                    1                    0   \n",
       "32                    0                    0                    1   \n",
       "40                    0                    1                    0   \n",
       "43                    0                    1                    0   \n",
       "\n",
       "    company_size_L  company_size_M  company_size_S  \n",
       "5                1               0               0  \n",
       "14               1               0               0  \n",
       "32               1               0               0  \n",
       "40               0               0               1  \n",
       "43               1               0               0  "
      ]
     },
     "execution_count": 17,
     "metadata": {},
     "output_type": "execute_result"
    }
   ],
   "source": [
    "## Dummies variable Encoding\n",
    "dummies = pd.get_dummies(ds_salaries[['job_title', 'experience_level', 'company_size']], drop_first = False)\n",
    "## concat dummies df to main df\n",
    "ds_salaries_dummies = pd.concat([ds_salaries, dummies], axis=1)\n",
    "## reset index \n",
    "ds_salaries = ds_salaries.reset_index(drop = True)\n",
    "ds_salaries_dummies.head(5)"
   ]
  },
  {
   "cell_type": "code",
   "execution_count": 18,
   "id": "18217eb8",
   "metadata": {},
   "outputs": [],
   "source": [
    "# Collect features and keep it in x and target in y\n",
    "x = ds_salaries_dummies.drop(['experience_level', 'employment_type', 'job_title',\\\n",
    "                      'salary_in_usd', 'company_location', 'company_size'], axis = 1)\n",
    "y = ds_salaries_dummies[['salary_in_usd']]"
   ]
  },
  {
   "cell_type": "code",
   "execution_count": 19,
   "id": "59ce7d71",
   "metadata": {},
   "outputs": [
    {
     "data": {
      "text/plain": [
       "Index(['remote_ratio', 'job_title_Data Analyst', 'job_title_Data Engineer',\n",
       "       'job_title_Data Scientist', 'experience_level_EN',\n",
       "       'experience_level_EX', 'experience_level_MI', 'experience_level_SE',\n",
       "       'company_size_L', 'company_size_M', 'company_size_S'],\n",
       "      dtype='object')"
      ]
     },
     "execution_count": 19,
     "metadata": {},
     "output_type": "execute_result"
    }
   ],
   "source": [
    "x.columns"
   ]
  },
  {
   "cell_type": "code",
   "execution_count": 20,
   "id": "89c10e8c",
   "metadata": {},
   "outputs": [
    {
     "data": {
      "text/html": [
       "<div>\n",
       "<style scoped>\n",
       "    .dataframe tbody tr th:only-of-type {\n",
       "        vertical-align: middle;\n",
       "    }\n",
       "\n",
       "    .dataframe tbody tr th {\n",
       "        vertical-align: top;\n",
       "    }\n",
       "\n",
       "    .dataframe thead th {\n",
       "        text-align: right;\n",
       "    }\n",
       "</style>\n",
       "<table border=\"1\" class=\"dataframe\">\n",
       "  <thead>\n",
       "    <tr style=\"text-align: right;\">\n",
       "      <th></th>\n",
       "      <th>remote_ratio</th>\n",
       "      <th>job_title_Data Analyst</th>\n",
       "      <th>job_title_Data Engineer</th>\n",
       "      <th>job_title_Data Scientist</th>\n",
       "      <th>experience_level_EN</th>\n",
       "      <th>experience_level_EX</th>\n",
       "      <th>experience_level_MI</th>\n",
       "      <th>experience_level_SE</th>\n",
       "      <th>company_size_L</th>\n",
       "      <th>company_size_M</th>\n",
       "      <th>company_size_S</th>\n",
       "    </tr>\n",
       "  </thead>\n",
       "  <tbody>\n",
       "    <tr>\n",
       "      <th>5</th>\n",
       "      <td>100</td>\n",
       "      <td>1</td>\n",
       "      <td>0</td>\n",
       "      <td>0</td>\n",
       "      <td>1</td>\n",
       "      <td>0</td>\n",
       "      <td>0</td>\n",
       "      <td>0</td>\n",
       "      <td>1</td>\n",
       "      <td>0</td>\n",
       "      <td>0</td>\n",
       "    </tr>\n",
       "    <tr>\n",
       "      <th>14</th>\n",
       "      <td>100</td>\n",
       "      <td>1</td>\n",
       "      <td>0</td>\n",
       "      <td>0</td>\n",
       "      <td>0</td>\n",
       "      <td>0</td>\n",
       "      <td>1</td>\n",
       "      <td>0</td>\n",
       "      <td>1</td>\n",
       "      <td>0</td>\n",
       "      <td>0</td>\n",
       "    </tr>\n",
       "    <tr>\n",
       "      <th>32</th>\n",
       "      <td>100</td>\n",
       "      <td>0</td>\n",
       "      <td>0</td>\n",
       "      <td>1</td>\n",
       "      <td>0</td>\n",
       "      <td>0</td>\n",
       "      <td>0</td>\n",
       "      <td>1</td>\n",
       "      <td>1</td>\n",
       "      <td>0</td>\n",
       "      <td>0</td>\n",
       "    </tr>\n",
       "    <tr>\n",
       "      <th>40</th>\n",
       "      <td>100</td>\n",
       "      <td>0</td>\n",
       "      <td>0</td>\n",
       "      <td>1</td>\n",
       "      <td>0</td>\n",
       "      <td>0</td>\n",
       "      <td>1</td>\n",
       "      <td>0</td>\n",
       "      <td>0</td>\n",
       "      <td>0</td>\n",
       "      <td>1</td>\n",
       "    </tr>\n",
       "    <tr>\n",
       "      <th>43</th>\n",
       "      <td>100</td>\n",
       "      <td>0</td>\n",
       "      <td>1</td>\n",
       "      <td>0</td>\n",
       "      <td>0</td>\n",
       "      <td>0</td>\n",
       "      <td>1</td>\n",
       "      <td>0</td>\n",
       "      <td>1</td>\n",
       "      <td>0</td>\n",
       "      <td>0</td>\n",
       "    </tr>\n",
       "  </tbody>\n",
       "</table>\n",
       "</div>"
      ],
      "text/plain": [
       "    remote_ratio  job_title_Data Analyst  job_title_Data Engineer  \\\n",
       "5            100                       1                        0   \n",
       "14           100                       1                        0   \n",
       "32           100                       0                        0   \n",
       "40           100                       0                        0   \n",
       "43           100                       0                        1   \n",
       "\n",
       "    job_title_Data Scientist  experience_level_EN  experience_level_EX  \\\n",
       "5                          0                    1                    0   \n",
       "14                         0                    0                    0   \n",
       "32                         1                    0                    0   \n",
       "40                         1                    0                    0   \n",
       "43                         0                    0                    0   \n",
       "\n",
       "    experience_level_MI  experience_level_SE  company_size_L  company_size_M  \\\n",
       "5                     0                    0               1               0   \n",
       "14                    1                    0               1               0   \n",
       "32                    0                    1               1               0   \n",
       "40                    1                    0               0               0   \n",
       "43                    1                    0               1               0   \n",
       "\n",
       "    company_size_S  \n",
       "5                0  \n",
       "14               0  \n",
       "32               0  \n",
       "40               1  \n",
       "43               0  "
      ]
     },
     "execution_count": 20,
     "metadata": {},
     "output_type": "execute_result"
    }
   ],
   "source": [
    "x.head(5)"
   ]
  },
  {
   "cell_type": "markdown",
   "id": "3a37a8ee",
   "metadata": {},
   "source": [
    "**prepare dataset**\n",
    "- change categorical values into 0 and 1 by using one hot encode method\n",
    "- store features into x and target in y"
   ]
  },
  {
   "cell_type": "markdown",
   "id": "ec669972",
   "metadata": {},
   "source": [
    "### Section 2: Create model"
   ]
  },
  {
   "cell_type": "code",
   "execution_count": 21,
   "id": "449b52bb",
   "metadata": {},
   "outputs": [
    {
     "name": "stdout",
     "output_type": "stream",
     "text": [
      "(186, 11)\n",
      "(47, 11)\n"
     ]
    }
   ],
   "source": [
    "# set seed for keep values same evertime\n",
    "x_train, x_test, y_train, y_test = train_test_split(x, y, test_size = 0.2, random_state = 42)\n",
    "print(x_train.shape)\n",
    "print(x_test.shape)"
   ]
  },
  {
   "cell_type": "code",
   "execution_count": 22,
   "id": "23385543",
   "metadata": {},
   "outputs": [
    {
     "data": {
      "text/plain": [
       "LinearRegression(normalize=True)"
      ]
     },
     "execution_count": 22,
     "metadata": {},
     "output_type": "execute_result"
    }
   ],
   "source": [
    "# Create model linear regression with train dataset\n",
    "LR = LinearRegression(normalize=True)\n",
    "# train model\n",
    "LR.fit(x_train, y_train)"
   ]
  },
  {
   "cell_type": "code",
   "execution_count": 23,
   "id": "c0a82035",
   "metadata": {},
   "outputs": [],
   "source": [
    "# test model\n",
    "y_pred = LR.fit(x_train, y_train)"
   ]
  },
  {
   "cell_type": "code",
   "execution_count": 24,
   "id": "87618c70",
   "metadata": {},
   "outputs": [],
   "source": [
    "# evaluate model \n",
    "y_pred = LR.predict(x_test)"
   ]
  },
  {
   "cell_type": "markdown",
   "id": "1b3bd644",
   "metadata": {},
   "source": [
    "**create model by**\n",
    "- **Split** data into 2 parts **Train** 80%   **Test** 20%\n",
    "- train model with train dataset\n",
    "- evalutate model with test dataset"
   ]
  },
  {
   "cell_type": "markdown",
   "id": "58745be5",
   "metadata": {},
   "source": [
    "### Section 3: Score model using RMSE metric"
   ]
  },
  {
   "cell_type": "code",
   "execution_count": 25,
   "id": "538c21a3",
   "metadata": {},
   "outputs": [
    {
     "name": "stdout",
     "output_type": "stream",
     "text": [
      "RMSE =  38794.8257\n"
     ]
    }
   ],
   "source": [
    "# Score model using root mean square error\n",
    "from sklearn.metrics import mean_squared_error\n",
    "\n",
    "rmse = np.sqrt(mean_squared_error(y_test, y_pred))\n",
    "print('RMSE = ', round(rmse, 4))"
   ]
  },
  {
   "cell_type": "markdown",
   "id": "c0e6bb6d",
   "metadata": {},
   "source": [
    "Score model by using root mean square error(rmse) and it's score is high so I think \n",
    "1. linear regression is not suitable for this dataset.\n",
    "2. all features are store in 0 and 1 except remote ratio.  "
   ]
  },
  {
   "cell_type": "markdown",
   "id": "150a1bd9",
   "metadata": {},
   "source": [
    "### Section 4: Deploy Model"
   ]
  },
  {
   "cell_type": "code",
   "execution_count": 29,
   "id": "b1aad318",
   "metadata": {},
   "outputs": [],
   "source": [
    "# create columns for use in function predict_data_salary()\n",
    "predict_salary_df = pd.DataFrame(columns = x_train.columns)\n",
    "def predict_data_salary():\n",
    "    \"\"\"\n",
    "    Predict data salary in US\n",
    "    This function does not receive any argument\n",
    "    but will ask for input\n",
    "    \"\"\"\n",
    "    #remote_ratio\n",
    "    try:\n",
    "        remote = int(input('Remote ratio:0 No remote work (less than 20%) \\\n",
    "        \\n 50 Partially remote \\\n",
    "        \\n 100 Fully remote (more than 80%): '))\n",
    "        remote_code = [remote]\n",
    "    except:\n",
    "        print('Wrong value!!')\n",
    "        return None\n",
    "    #job_title\n",
    "    job = int(input('Job title: Data Analyst is 1 \\\n",
    "    \\n Data Engineer is 2 \\\n",
    "    \\n Data Scientist is 3: '))\n",
    "    if job == 1: # Data Analyst\n",
    "        job_code = [1, 0, 0]\n",
    "    elif job == 2: # Data Engineer\n",
    "        job_code = [0, 1, 0]\n",
    "    elif job == 3: # Data Scientist\n",
    "        job_code = [0, 0, 1]\n",
    "    else:\n",
    "        print('wrong value!!')\n",
    "        return None\n",
    "    #experience_level\n",
    "    ex_level = int(input('Experience Entry-level is 1\\\n",
    "    \\n MI Mid-level is 2\\\n",
    "    \\n SE Senior-level is 3\\\n",
    "    \\n EX Executive-level is 4: '))\n",
    "    if ex_level == 1:\n",
    "        ex_level_code = [1, 0, 0, 0]\n",
    "    elif ex_level == 2:\n",
    "        ex_level_code = [0, 0, 1, 0]\n",
    "    elif ex_level == 3:\n",
    "        ex_level_code = [0, 0, 0 , 1]\n",
    "    elif ex_level == 4:\n",
    "        ex_level_code = [0, 1, 0 , 0]\n",
    "    else:\n",
    "        print('wrong value!!')\n",
    "        return None\n",
    "    #company_size\n",
    "    com_size = int(input('S less than 50 employees (small) is 1 \\\n",
    "    \\n M 50 to 250 employees (medium) is 2\\\n",
    "    \\n L more than 250 employees (large) is 3: '))\n",
    "    if com_size == 1:\n",
    "        com_size_code = [0, 0, 1]\n",
    "    elif com_size == 2:\n",
    "        com_size_code = [0, 1, 0]\n",
    "    elif com_size == 3:\n",
    "        com_size_code = [1, 0, 0]\n",
    "    else:\n",
    "        print('wrong value!!')\n",
    "        return None\n",
    "    dependent_var = remote_code + job_code + ex_level_code + com_size_code\n",
    "    predict_salary_df.loc[0] = dependent_var\n",
    "    predicted = LR.predict(predict_salary_df)\n",
    "    salary_us = \"{:,}\".format(round(predicted.item(0), 0))\n",
    "    salary_th = \"{:,}\".format(round(predicted.item(0) * 35/12, 0))\n",
    "    print(f'Your predicted salary around {salary_us} US dollars per year')\n",
    "    print(f'Or {salary_th} baht per month')"
   ]
  },
  {
   "cell_type": "markdown",
   "id": "15dfe8d8",
   "metadata": {},
   "source": [
    "Pretend it's a good model for study how to deploy model for predict data salary in us."
   ]
  },
  {
   "cell_type": "markdown",
   "id": "112af81e",
   "metadata": {},
   "source": [
    "predict_data_salary function is trying to predict your salary and it ask for your experience level, your company size and remote ratio, after answer all input it'll give your estimate data career salary."
   ]
  },
  {
   "cell_type": "markdown",
   "id": "6592ee2b",
   "metadata": {},
   "source": [
    "#### Let's predict your salary"
   ]
  },
  {
   "cell_type": "code",
   "execution_count": 27,
   "id": "1ab9b192",
   "metadata": {},
   "outputs": [
    {
     "name": "stdout",
     "output_type": "stream",
     "text": [
      "Remote ratio:0 No remote work (less than 20%)         \n",
      " 50 Partially remote         \n",
      " 100 Fully remote (more than 80%): 100\n",
      "Job title: Data Analyst is 1     \n",
      " Data Engineer is 2     \n",
      " Data Scientist is 3: 1\n",
      "Experience Entry-level is 1    \n",
      " MI Mid-level is 2    \n",
      " SE Senior-level is 3    \n",
      " EX Executive-level is 4: 1\n",
      "S less than 50 employees (small) is 1     \n",
      " M 50 to 250 employees (medium) is 2    \n",
      " L more than 250 employees (large) is 3: 1\n",
      "Your predicted salary around 46,228.0 US dollars per year\n",
      "Or 134,830.0 baht per month\n"
     ]
    }
   ],
   "source": [
    "predict_data_salary()"
   ]
  },
  {
   "cell_type": "markdown",
   "id": "ebc75f4e",
   "metadata": {},
   "source": [
    "<hr>"
   ]
  },
  {
   "cell_type": "markdown",
   "id": "68eceaa4",
   "metadata": {},
   "source": [
    "## Key Findings:\n",
    "Data scientist and Data engineer in Company medium and large size don't have differently salaries in experience level more than entry level."
   ]
  },
  {
   "cell_type": "markdown",
   "id": "93ec05ca",
   "metadata": {},
   "source": [
    "## What's Next / Recommendation:\n",
    "1. Find more feature that are numeric values\n",
    "2. use another model to find most accurate"
   ]
  },
  {
   "cell_type": "markdown",
   "id": "3262a373",
   "metadata": {},
   "source": [
    "## Finnacial Benefit:\n",
    "Now! We can negotiate the right salary when we apply for a job in United State."
   ]
  }
 ],
 "metadata": {
  "kernelspec": {
   "display_name": "Python 3 (ipykernel)",
   "language": "python",
   "name": "python3"
  },
  "language_info": {
   "codemirror_mode": {
    "name": "ipython",
    "version": 3
   },
   "file_extension": ".py",
   "mimetype": "text/x-python",
   "name": "python",
   "nbconvert_exporter": "python",
   "pygments_lexer": "ipython3",
   "version": "3.9.12"
  }
 },
 "nbformat": 4,
 "nbformat_minor": 5
}
